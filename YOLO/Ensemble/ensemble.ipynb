{
 "cells": [
  {
   "cell_type": "code",
   "execution_count": null,
   "metadata": {},
   "outputs": [],
   "source": [
    "# numpy downgrade가 필요할 수 있음\n",
    "!python -m pip install numpy==1.2"
   ]
  },
  {
   "cell_type": "code",
   "execution_count": 1,
   "metadata": {},
   "outputs": [
    {
     "name": "stdout",
     "output_type": "stream",
     "text": [
      "Collecting ensemble_boxes\n",
      "  Downloading ensemble_boxes-1.0.7-py3-none-any.whl (20 kB)\n",
      "Requirement already satisfied: pandas in /opt/conda/envs/detection/lib/python3.7/site-packages (from ensemble_boxes) (1.3.3)\n",
      "Requirement already satisfied: numpy in /opt/conda/envs/detection/lib/python3.7/site-packages (from ensemble_boxes) (1.21.2)\n",
      "Collecting numba\n",
      "  Downloading numba-0.54.0-2-cp37-cp37m-manylinux2014_x86_64.manylinux_2_17_x86_64.whl (3.4 MB)\n",
      "\u001b[K     |████████████████████████████████| 3.4 MB 24.4 MB/s eta 0:00:01\n",
      "\u001b[?25hRequirement already satisfied: setuptools in /opt/conda/envs/detection/lib/python3.7/site-packages (from numba->ensemble_boxes) (58.0.4)\n",
      "Collecting numpy\n",
      "  Downloading numpy-1.20.3-cp37-cp37m-manylinux_2_12_x86_64.manylinux2010_x86_64.whl (15.3 MB)\n",
      "\u001b[K     |████████████████████████████████| 15.3 MB 75.1 MB/s eta 0:00:01\n",
      "\u001b[?25hCollecting llvmlite<0.38,>=0.37.0rc1\n",
      "  Downloading llvmlite-0.37.0-cp37-cp37m-manylinux2014_x86_64.whl (26.3 MB)\n",
      "\u001b[K     |████████████████████████████████| 26.3 MB 72.6 MB/s eta 0:00:01\n",
      "\u001b[?25hRequirement already satisfied: python-dateutil>=2.7.3 in /opt/conda/envs/detection/lib/python3.7/site-packages (from pandas->ensemble_boxes) (2.8.2)\n",
      "Requirement already satisfied: pytz>=2017.3 in /opt/conda/envs/detection/lib/python3.7/site-packages (from pandas->ensemble_boxes) (2021.1)\n",
      "Requirement already satisfied: six>=1.5 in /opt/conda/envs/detection/lib/python3.7/site-packages (from python-dateutil>=2.7.3->pandas->ensemble_boxes) (1.16.0)\n",
      "Installing collected packages: numpy, llvmlite, numba, ensemble-boxes\n",
      "  Attempting uninstall: numpy\n",
      "    Found existing installation: numpy 1.21.2\n",
      "    Uninstalling numpy-1.21.2:\n",
      "      Successfully uninstalled numpy-1.21.2\n",
      "Successfully installed ensemble-boxes-1.0.7 llvmlite-0.37.0 numba-0.54.0 numpy-1.20.3\n"
     ]
    }
   ],
   "source": [
    "!pip install ensemble_boxes"
   ]
  },
  {
   "cell_type": "code",
   "execution_count": 9,
   "metadata": {},
   "outputs": [],
   "source": [
    "import pandas as pd\n",
    "from ensemble_boxes import *\n",
    "import numpy as np\n",
    "from pycocotools.coco import COCO"
   ]
  },
  {
   "cell_type": "code",
   "execution_count": 10,
   "metadata": {},
   "outputs": [
    {
     "ename": "FileNotFoundError",
     "evalue": "[Errno 2] No such file or directory: './sample/submission_yolov5x.csv'",
     "output_type": "error",
     "traceback": [
      "\u001b[0;31m---------------------------------------------------------------------------\u001b[0m",
      "\u001b[0;31mFileNotFoundError\u001b[0m                         Traceback (most recent call last)",
      "\u001b[0;32m/tmp/ipykernel_94116/452602881.py\u001b[0m in \u001b[0;36m<module>\u001b[0;34m\u001b[0m\n\u001b[0;32m----> 1\u001b[0;31m \u001b[0msubmission_df\u001b[0m \u001b[0;34m=\u001b[0m \u001b[0mpd\u001b[0m\u001b[0;34m.\u001b[0m\u001b[0mread_csv\u001b[0m\u001b[0;34m(\u001b[0m\u001b[0;34m'./sample/submission_yolov5x.csv'\u001b[0m\u001b[0;34m)\u001b[0m\u001b[0;34m\u001b[0m\u001b[0;34m\u001b[0m\u001b[0m\n\u001b[0m\u001b[1;32m      2\u001b[0m \u001b[0msubmission_df\u001b[0m \u001b[0;34m=\u001b[0m \u001b[0msubmission_df\u001b[0m\u001b[0;34m.\u001b[0m\u001b[0mdrop\u001b[0m\u001b[0;34m(\u001b[0m\u001b[0;34m[\u001b[0m\u001b[0;34m'index'\u001b[0m\u001b[0;34m]\u001b[0m\u001b[0;34m,\u001b[0m \u001b[0maxis\u001b[0m\u001b[0;34m=\u001b[0m\u001b[0;36m1\u001b[0m\u001b[0;34m)\u001b[0m\u001b[0;34m\u001b[0m\u001b[0;34m\u001b[0m\u001b[0m\n\u001b[1;32m      3\u001b[0m \u001b[0msubmission_df\u001b[0m\u001b[0;34m.\u001b[0m\u001b[0mto_csv\u001b[0m\u001b[0;34m(\u001b[0m\u001b[0;34m'submission_yolov5x_new.csv'\u001b[0m\u001b[0;34m,\u001b[0m \u001b[0mindex\u001b[0m\u001b[0;34m=\u001b[0m\u001b[0;32mFalse\u001b[0m\u001b[0;34m)\u001b[0m\u001b[0;34m\u001b[0m\u001b[0;34m\u001b[0m\u001b[0m\n",
      "\u001b[0;32m/opt/conda/envs/detection/lib/python3.7/site-packages/pandas/util/_decorators.py\u001b[0m in \u001b[0;36mwrapper\u001b[0;34m(*args, **kwargs)\u001b[0m\n\u001b[1;32m    309\u001b[0m                     \u001b[0mstacklevel\u001b[0m\u001b[0;34m=\u001b[0m\u001b[0mstacklevel\u001b[0m\u001b[0;34m,\u001b[0m\u001b[0;34m\u001b[0m\u001b[0;34m\u001b[0m\u001b[0m\n\u001b[1;32m    310\u001b[0m                 )\n\u001b[0;32m--> 311\u001b[0;31m             \u001b[0;32mreturn\u001b[0m \u001b[0mfunc\u001b[0m\u001b[0;34m(\u001b[0m\u001b[0;34m*\u001b[0m\u001b[0margs\u001b[0m\u001b[0;34m,\u001b[0m \u001b[0;34m**\u001b[0m\u001b[0mkwargs\u001b[0m\u001b[0;34m)\u001b[0m\u001b[0;34m\u001b[0m\u001b[0;34m\u001b[0m\u001b[0m\n\u001b[0m\u001b[1;32m    312\u001b[0m \u001b[0;34m\u001b[0m\u001b[0m\n\u001b[1;32m    313\u001b[0m         \u001b[0;32mreturn\u001b[0m \u001b[0mwrapper\u001b[0m\u001b[0;34m\u001b[0m\u001b[0;34m\u001b[0m\u001b[0m\n",
      "\u001b[0;32m/opt/conda/envs/detection/lib/python3.7/site-packages/pandas/io/parsers/readers.py\u001b[0m in \u001b[0;36mread_csv\u001b[0;34m(filepath_or_buffer, sep, delimiter, header, names, index_col, usecols, squeeze, prefix, mangle_dupe_cols, dtype, engine, converters, true_values, false_values, skipinitialspace, skiprows, skipfooter, nrows, na_values, keep_default_na, na_filter, verbose, skip_blank_lines, parse_dates, infer_datetime_format, keep_date_col, date_parser, dayfirst, cache_dates, iterator, chunksize, compression, thousands, decimal, lineterminator, quotechar, quoting, doublequote, escapechar, comment, encoding, encoding_errors, dialect, error_bad_lines, warn_bad_lines, on_bad_lines, delim_whitespace, low_memory, memory_map, float_precision, storage_options)\u001b[0m\n\u001b[1;32m    584\u001b[0m     \u001b[0mkwds\u001b[0m\u001b[0;34m.\u001b[0m\u001b[0mupdate\u001b[0m\u001b[0;34m(\u001b[0m\u001b[0mkwds_defaults\u001b[0m\u001b[0;34m)\u001b[0m\u001b[0;34m\u001b[0m\u001b[0;34m\u001b[0m\u001b[0m\n\u001b[1;32m    585\u001b[0m \u001b[0;34m\u001b[0m\u001b[0m\n\u001b[0;32m--> 586\u001b[0;31m     \u001b[0;32mreturn\u001b[0m \u001b[0m_read\u001b[0m\u001b[0;34m(\u001b[0m\u001b[0mfilepath_or_buffer\u001b[0m\u001b[0;34m,\u001b[0m \u001b[0mkwds\u001b[0m\u001b[0;34m)\u001b[0m\u001b[0;34m\u001b[0m\u001b[0;34m\u001b[0m\u001b[0m\n\u001b[0m\u001b[1;32m    587\u001b[0m \u001b[0;34m\u001b[0m\u001b[0m\n\u001b[1;32m    588\u001b[0m \u001b[0;34m\u001b[0m\u001b[0m\n",
      "\u001b[0;32m/opt/conda/envs/detection/lib/python3.7/site-packages/pandas/io/parsers/readers.py\u001b[0m in \u001b[0;36m_read\u001b[0;34m(filepath_or_buffer, kwds)\u001b[0m\n\u001b[1;32m    480\u001b[0m \u001b[0;34m\u001b[0m\u001b[0m\n\u001b[1;32m    481\u001b[0m     \u001b[0;31m# Create the parser.\u001b[0m\u001b[0;34m\u001b[0m\u001b[0;34m\u001b[0m\u001b[0;34m\u001b[0m\u001b[0m\n\u001b[0;32m--> 482\u001b[0;31m     \u001b[0mparser\u001b[0m \u001b[0;34m=\u001b[0m \u001b[0mTextFileReader\u001b[0m\u001b[0;34m(\u001b[0m\u001b[0mfilepath_or_buffer\u001b[0m\u001b[0;34m,\u001b[0m \u001b[0;34m**\u001b[0m\u001b[0mkwds\u001b[0m\u001b[0;34m)\u001b[0m\u001b[0;34m\u001b[0m\u001b[0;34m\u001b[0m\u001b[0m\n\u001b[0m\u001b[1;32m    483\u001b[0m \u001b[0;34m\u001b[0m\u001b[0m\n\u001b[1;32m    484\u001b[0m     \u001b[0;32mif\u001b[0m \u001b[0mchunksize\u001b[0m \u001b[0;32mor\u001b[0m \u001b[0miterator\u001b[0m\u001b[0;34m:\u001b[0m\u001b[0;34m\u001b[0m\u001b[0;34m\u001b[0m\u001b[0m\n",
      "\u001b[0;32m/opt/conda/envs/detection/lib/python3.7/site-packages/pandas/io/parsers/readers.py\u001b[0m in \u001b[0;36m__init__\u001b[0;34m(self, f, engine, **kwds)\u001b[0m\n\u001b[1;32m    809\u001b[0m             \u001b[0mself\u001b[0m\u001b[0;34m.\u001b[0m\u001b[0moptions\u001b[0m\u001b[0;34m[\u001b[0m\u001b[0;34m\"has_index_names\"\u001b[0m\u001b[0;34m]\u001b[0m \u001b[0;34m=\u001b[0m \u001b[0mkwds\u001b[0m\u001b[0;34m[\u001b[0m\u001b[0;34m\"has_index_names\"\u001b[0m\u001b[0;34m]\u001b[0m\u001b[0;34m\u001b[0m\u001b[0;34m\u001b[0m\u001b[0m\n\u001b[1;32m    810\u001b[0m \u001b[0;34m\u001b[0m\u001b[0m\n\u001b[0;32m--> 811\u001b[0;31m         \u001b[0mself\u001b[0m\u001b[0;34m.\u001b[0m\u001b[0m_engine\u001b[0m \u001b[0;34m=\u001b[0m \u001b[0mself\u001b[0m\u001b[0;34m.\u001b[0m\u001b[0m_make_engine\u001b[0m\u001b[0;34m(\u001b[0m\u001b[0mself\u001b[0m\u001b[0;34m.\u001b[0m\u001b[0mengine\u001b[0m\u001b[0;34m)\u001b[0m\u001b[0;34m\u001b[0m\u001b[0;34m\u001b[0m\u001b[0m\n\u001b[0m\u001b[1;32m    812\u001b[0m \u001b[0;34m\u001b[0m\u001b[0m\n\u001b[1;32m    813\u001b[0m     \u001b[0;32mdef\u001b[0m \u001b[0mclose\u001b[0m\u001b[0;34m(\u001b[0m\u001b[0mself\u001b[0m\u001b[0;34m)\u001b[0m\u001b[0;34m:\u001b[0m\u001b[0;34m\u001b[0m\u001b[0;34m\u001b[0m\u001b[0m\n",
      "\u001b[0;32m/opt/conda/envs/detection/lib/python3.7/site-packages/pandas/io/parsers/readers.py\u001b[0m in \u001b[0;36m_make_engine\u001b[0;34m(self, engine)\u001b[0m\n\u001b[1;32m   1038\u001b[0m             )\n\u001b[1;32m   1039\u001b[0m         \u001b[0;31m# error: Too many arguments for \"ParserBase\"\u001b[0m\u001b[0;34m\u001b[0m\u001b[0;34m\u001b[0m\u001b[0;34m\u001b[0m\u001b[0m\n\u001b[0;32m-> 1040\u001b[0;31m         \u001b[0;32mreturn\u001b[0m \u001b[0mmapping\u001b[0m\u001b[0;34m[\u001b[0m\u001b[0mengine\u001b[0m\u001b[0;34m]\u001b[0m\u001b[0;34m(\u001b[0m\u001b[0mself\u001b[0m\u001b[0;34m.\u001b[0m\u001b[0mf\u001b[0m\u001b[0;34m,\u001b[0m \u001b[0;34m**\u001b[0m\u001b[0mself\u001b[0m\u001b[0;34m.\u001b[0m\u001b[0moptions\u001b[0m\u001b[0;34m)\u001b[0m  \u001b[0;31m# type: ignore[call-arg]\u001b[0m\u001b[0;34m\u001b[0m\u001b[0;34m\u001b[0m\u001b[0m\n\u001b[0m\u001b[1;32m   1041\u001b[0m \u001b[0;34m\u001b[0m\u001b[0m\n\u001b[1;32m   1042\u001b[0m     \u001b[0;32mdef\u001b[0m \u001b[0m_failover_to_python\u001b[0m\u001b[0;34m(\u001b[0m\u001b[0mself\u001b[0m\u001b[0;34m)\u001b[0m\u001b[0;34m:\u001b[0m\u001b[0;34m\u001b[0m\u001b[0;34m\u001b[0m\u001b[0m\n",
      "\u001b[0;32m/opt/conda/envs/detection/lib/python3.7/site-packages/pandas/io/parsers/c_parser_wrapper.py\u001b[0m in \u001b[0;36m__init__\u001b[0;34m(self, src, **kwds)\u001b[0m\n\u001b[1;32m     49\u001b[0m \u001b[0;34m\u001b[0m\u001b[0m\n\u001b[1;32m     50\u001b[0m         \u001b[0;31m# open handles\u001b[0m\u001b[0;34m\u001b[0m\u001b[0;34m\u001b[0m\u001b[0;34m\u001b[0m\u001b[0m\n\u001b[0;32m---> 51\u001b[0;31m         \u001b[0mself\u001b[0m\u001b[0;34m.\u001b[0m\u001b[0m_open_handles\u001b[0m\u001b[0;34m(\u001b[0m\u001b[0msrc\u001b[0m\u001b[0;34m,\u001b[0m \u001b[0mkwds\u001b[0m\u001b[0;34m)\u001b[0m\u001b[0;34m\u001b[0m\u001b[0;34m\u001b[0m\u001b[0m\n\u001b[0m\u001b[1;32m     52\u001b[0m         \u001b[0;32massert\u001b[0m \u001b[0mself\u001b[0m\u001b[0;34m.\u001b[0m\u001b[0mhandles\u001b[0m \u001b[0;32mis\u001b[0m \u001b[0;32mnot\u001b[0m \u001b[0;32mNone\u001b[0m\u001b[0;34m\u001b[0m\u001b[0;34m\u001b[0m\u001b[0m\n\u001b[1;32m     53\u001b[0m \u001b[0;34m\u001b[0m\u001b[0m\n",
      "\u001b[0;32m/opt/conda/envs/detection/lib/python3.7/site-packages/pandas/io/parsers/base_parser.py\u001b[0m in \u001b[0;36m_open_handles\u001b[0;34m(self, src, kwds)\u001b[0m\n\u001b[1;32m    227\u001b[0m             \u001b[0mmemory_map\u001b[0m\u001b[0;34m=\u001b[0m\u001b[0mkwds\u001b[0m\u001b[0;34m.\u001b[0m\u001b[0mget\u001b[0m\u001b[0;34m(\u001b[0m\u001b[0;34m\"memory_map\"\u001b[0m\u001b[0;34m,\u001b[0m \u001b[0;32mFalse\u001b[0m\u001b[0;34m)\u001b[0m\u001b[0;34m,\u001b[0m\u001b[0;34m\u001b[0m\u001b[0;34m\u001b[0m\u001b[0m\n\u001b[1;32m    228\u001b[0m             \u001b[0mstorage_options\u001b[0m\u001b[0;34m=\u001b[0m\u001b[0mkwds\u001b[0m\u001b[0;34m.\u001b[0m\u001b[0mget\u001b[0m\u001b[0;34m(\u001b[0m\u001b[0;34m\"storage_options\"\u001b[0m\u001b[0;34m,\u001b[0m \u001b[0;32mNone\u001b[0m\u001b[0;34m)\u001b[0m\u001b[0;34m,\u001b[0m\u001b[0;34m\u001b[0m\u001b[0;34m\u001b[0m\u001b[0m\n\u001b[0;32m--> 229\u001b[0;31m             \u001b[0merrors\u001b[0m\u001b[0;34m=\u001b[0m\u001b[0mkwds\u001b[0m\u001b[0;34m.\u001b[0m\u001b[0mget\u001b[0m\u001b[0;34m(\u001b[0m\u001b[0;34m\"encoding_errors\"\u001b[0m\u001b[0;34m,\u001b[0m \u001b[0;34m\"strict\"\u001b[0m\u001b[0;34m)\u001b[0m\u001b[0;34m,\u001b[0m\u001b[0;34m\u001b[0m\u001b[0;34m\u001b[0m\u001b[0m\n\u001b[0m\u001b[1;32m    230\u001b[0m         )\n\u001b[1;32m    231\u001b[0m \u001b[0;34m\u001b[0m\u001b[0m\n",
      "\u001b[0;32m/opt/conda/envs/detection/lib/python3.7/site-packages/pandas/io/common.py\u001b[0m in \u001b[0;36mget_handle\u001b[0;34m(path_or_buf, mode, encoding, compression, memory_map, is_text, errors, storage_options)\u001b[0m\n\u001b[1;32m    705\u001b[0m                 \u001b[0mencoding\u001b[0m\u001b[0;34m=\u001b[0m\u001b[0mioargs\u001b[0m\u001b[0;34m.\u001b[0m\u001b[0mencoding\u001b[0m\u001b[0;34m,\u001b[0m\u001b[0;34m\u001b[0m\u001b[0;34m\u001b[0m\u001b[0m\n\u001b[1;32m    706\u001b[0m                 \u001b[0merrors\u001b[0m\u001b[0;34m=\u001b[0m\u001b[0merrors\u001b[0m\u001b[0;34m,\u001b[0m\u001b[0;34m\u001b[0m\u001b[0;34m\u001b[0m\u001b[0m\n\u001b[0;32m--> 707\u001b[0;31m                 \u001b[0mnewline\u001b[0m\u001b[0;34m=\u001b[0m\u001b[0;34m\"\"\u001b[0m\u001b[0;34m,\u001b[0m\u001b[0;34m\u001b[0m\u001b[0;34m\u001b[0m\u001b[0m\n\u001b[0m\u001b[1;32m    708\u001b[0m             )\n\u001b[1;32m    709\u001b[0m         \u001b[0;32melse\u001b[0m\u001b[0;34m:\u001b[0m\u001b[0;34m\u001b[0m\u001b[0;34m\u001b[0m\u001b[0m\n",
      "\u001b[0;31mFileNotFoundError\u001b[0m: [Errno 2] No such file or directory: './sample/submission_yolov5x.csv'"
     ]
    }
   ],
   "source": [
    "submission_df = pd.read_csv('./sample/submission_yolov5x.csv')\n",
    "submission_df = submission_df.drop(['index'], axis=1)\n",
    "submission_df.to_csv('submission_yolov5x_new.csv', index=False)"
   ]
  },
  {
   "cell_type": "code",
   "execution_count": 40,
   "metadata": {},
   "outputs": [],
   "source": [
    "# ensemble csv files\n",
    "#submission_files = ['./sample_submission.csv'] # submission lists\n",
    "submission_files = ['./sample/submission_cascade.csv', './sample/submission_cascade_swin.csv',\n",
    "                    './sample/submission_cascade_swin_soft.csv', './sample/submission_Resnext101_32x4d_DetectoRS.csv',\n",
    "                    './sample/submission_cascade_swin_panet.csv', './sample/submission_yolor_new.csv', './sample/submission_yolov5x_modified.csv',\n",
    "                    './sample/wTTA.csv'] # submission lists\n",
    "submission_df = [pd.read_csv(file) for file in submission_files]"
   ]
  },
  {
   "cell_type": "code",
   "execution_count": 42,
   "metadata": {},
   "outputs": [
    {
     "data": {
      "text/plain": [
       "[                                       PredictionString       image_id\n",
       " 0     0 0.14121126 482.51205 575.3071 583.17377 659....  test/0000.jpg\n",
       " 1     0 0.4715332 646.6021 655.3318 678.696 831.3629...  test/0001.jpg\n",
       " 2     0 0.36675873 884.0751 453.48718 1009.5719 634....  test/0002.jpg\n",
       " 3     0 0.15888673 873.61426 303.20844 1021.6727 765...  test/0003.jpg\n",
       " 4     0 0.25711563 228.34488 353.0314 864.78687 782....  test/0004.jpg\n",
       " ...                                                 ...            ...\n",
       " 4866  0 0.6522544 294.53815 369.40198 663.5018 696.0...  test/4866.jpg\n",
       " 4867  0 0.2682657 625.76434 646.56854 769.7504 735.3...  test/4867.jpg\n",
       " 4868  0 0.11228676 466.5624 666.29456 538.986 704.84...  test/4868.jpg\n",
       " 4869  0 0.8171457 9.350311 200.68442 1009.0178 934.9...  test/4869.jpg\n",
       " 4870  0 0.3176533 98.74609 232.97247 212.50085 345.6...  test/4870.jpg\n",
       " \n",
       " [4871 rows x 2 columns],\n",
       "                                        PredictionString       image_id\n",
       " 0     0 0.7334854 483.01956 596.36926 585.27997 651....  test/0000.jpg\n",
       " 1     0 0.8224485 642.0707 648.36847 684.4674 825.65...  test/0001.jpg\n",
       " 2     0 0.99700123 881.17163 466.45514 1021.8104 631...  test/0002.jpg\n",
       " 3     0 0.14887527 0.0 0.0 644.599 991.56305 0 0.062...  test/0003.jpg\n",
       " 4     0 0.749165 418.17807 411.20618 652.4164 568.85...  test/0004.jpg\n",
       " ...                                                 ...            ...\n",
       " 4866  0 0.9556139 298.17963 363.69403 673.7958 692.8...  test/4866.jpg\n",
       " 4867  0 0.42765486 632.4912 662.7253 767.7593 722.55...  test/4867.jpg\n",
       " 4868  7 0.998694 114.490326 481.40454 744.53955 841....  test/4868.jpg\n",
       " 4869  0 0.9996605 0.0 221.66953 1024.0 911.38196 0 0...  test/4869.jpg\n",
       " 4870  0 0.20268208 240.30132 821.04285 291.54562 853...  test/4870.jpg\n",
       " \n",
       " [4871 rows x 2 columns],\n",
       "                                        PredictionString       image_id\n",
       " 0     0 0.58614546 242.66238 680.2735 302.6428 749.1...  test/0000.jpg\n",
       " 1     0 0.35837498 644.68744 649.94366 686.3851 831....  test/0001.jpg\n",
       " 2     0 0.9940718 877.4524 466.50067 1020.7667 629.3...  test/0002.jpg\n",
       " 3     0 0.06638327 184.82507 259.09128 912.7134 825....  test/0003.jpg\n",
       " 4     0 0.93324 457.96344 417.0222 655.45636 544.218...  test/0004.jpg\n",
       " ...                                                 ...            ...\n",
       " 4866  0 0.97322786 294.01495 353.5434 674.4044 692.6...  test/4866.jpg\n",
       " 4867  3 0.99992585 410.60617 318.96576 780.33777 702...  test/4867.jpg\n",
       " 4868  7 0.99968374 109.013306 471.74933 762.9135 842...  test/4868.jpg\n",
       " 4869  0 0.8715934 843.2041 0.0 1023.1322 322.89066 0...  test/4869.jpg\n",
       " 4870  4 0.99997556 374.81653 205.22073 622.401 839.0...  test/4870.jpg\n",
       " \n",
       " [4871 rows x 2 columns],\n",
       "                                        PredictionString       image_id\n",
       " 0     0 0.123060085 475.60352 578.23517 560.2501 657...  test/0000.jpg\n",
       " 1     0 0.20763607 761.16595 665.1053 901.57196 989....  test/0001.jpg\n",
       " 2     0 0.81075454 874.79144 467.3578 1024.0 640.225...  test/0002.jpg\n",
       " 3     0 0.11303346 14.182266 0.0 417.14642 914.1141 ...  test/0003.jpg\n",
       " 4     0 0.6015228 426.77094 408.45245 658.16876 570....  test/0004.jpg\n",
       " ...                                                 ...            ...\n",
       " 4866  0 0.8009892 287.2658 346.76996 666.161 692.565...  test/4866.jpg\n",
       " 4867  0 0.10092897 630.8501 660.62384 785.5603 723.1...  test/4867.jpg\n",
       " 4868  0 0.21263213 548.0127 528.50024 695.0819 789.6...  test/4868.jpg\n",
       " 4869  0 0.5995889 481.91403 412.40762 652.6568 490.4...  test/4869.jpg\n",
       " 4870  0 0.05406309 240.68901 823.0733 292.7557 854.1...  test/4870.jpg\n",
       " \n",
       " [4871 rows x 2 columns],\n",
       "                                        PredictionString       image_id\n",
       " 0     0 0.54231364 483.61484 597.30396 578.9475 649....  test/0000.jpg\n",
       " 1     0 0.25892872 640.10974 640.82477 686.0033 833....  test/0001.jpg\n",
       " 2     0 0.98981667 882.35284 469.8542 1021.5418 628....  test/0002.jpg\n",
       " 3     0 0.14984044 0.0 0.0 439.2738 967.2086 0 0.077...  test/0003.jpg\n",
       " 4     0 0.9735814 419.0171 407.92645 649.5969 572.02...  test/0004.jpg\n",
       " ...                                                 ...            ...\n",
       " 4866  0 0.99713093 291.2421 365.61053 672.70483 692....  test/4866.jpg\n",
       " 4867  0 0.9333635 627.6089 664.51587 770.76135 721.2...  test/4867.jpg\n",
       " 4868  7 0.9998204 103.574066 476.79904 757.54626 834...  test/4868.jpg\n",
       " 4869  0 0.9985511 6.932556 215.90704 1019.206 948.46...  test/4869.jpg\n",
       " 4870  4 0.9999901 369.07358 203.70816 625.6913 840.3...  test/4870.jpg\n",
       " \n",
       " [4871 rows x 2 columns],\n",
       "                                        PredictionString       image_id\n",
       " 0     7 0.979 601.0 519.0 956.0 1024.0 7 0.97559 216...  test/0000.jpg\n",
       " 1     5 0.85645 344.5 252.0 754.5 695.0 5 0.82324 13...  test/0001.jpg\n",
       " 2     1 0.92578 776.0 402.75 1023.0 1020.0 1 0.8623 ...  test/0002.jpg\n",
       " 3     9 0.83301 0.0 0.0 985.0 817.0 9 0.2124 31.75 7...  test/0003.jpg\n",
       " 4     0 0.52588 188.5 252.25 875.5 778.0 0 0.47998 4...  test/0004.jpg\n",
       " ...                                                 ...            ...\n",
       " 4866  0 0.7085 289.0 345.5 672.0 691.5 1 0.39966 290...  test/4866.jpg\n",
       " 4867  4 0.94971 415.75 313.0 783.0 704.0 5 0.01709 4...  test/4867.jpg\n",
       " 4868  7 0.88525 114.75 504.5 750.0 836.5 7 0.10309 6...  test/4868.jpg\n",
       " 4869  1 0.77637 838.0 0.0 1024.0 299.75 0 0.77393 0....  test/4869.jpg\n",
       " 4870  4 0.96631 375.0 203.25 625.0 841.0 1 0.04117 3...  test/4870.jpg\n",
       " \n",
       " [4871 rows x 2 columns],\n",
       "                                        PredictionString       image_id\n",
       " 0     7 0.98173 117.248 420.4 332.16 709.47499999999...  test/0000.jpg\n",
       " 1     3 0.91613 341.2 249.839 756.884 698.804 5 0.87...  test/0001.jpg\n",
       " 2     1 0.95199 423.432 269.572 643.798 328.036 1 0....  test/0002.jpg\n",
       " 3     9 0.61969 156.998 776.534 1024.0 1024.0 9 0.44...  test/0003.jpg\n",
       " 4     0 0.58667 183.828 259.067 886.188 762.667 7 0....  test/0004.jpg\n",
       " ...                                                 ...            ...\n",
       " 4866  0 0.88092 290.945 348.174 671.634 689.237 1 0....  test/4866.jpg\n",
       " 4867  3 0.97584 414.141 325.775 785.675 705.595 4 0....  test/4867.jpg\n",
       " 4868  7 0.90006 112.686 501.721 768.056 836.89699999...  test/4868.jpg\n",
       " 4869  1 0.37829 35.596 0.0 800.656 286.551 9 0.34366...  test/4869.jpg\n",
       " 4870  4 0.97059 373.425 197.503 626.435 850.86999999...  test/4870.jpg\n",
       " \n",
       " [4871 rows x 2 columns],\n",
       "                                        PredictionString       image_id\n",
       " 0     0 0.07557057 487.24966 596.3144 554.6751 649.8...  test/0000.jpg\n",
       " 1     0 0.04318378 733.959 649.3084 887.94366 989.50...  test/0001.jpg\n",
       " 2     0 0.38717258 856.59033 431.23447 1017.7922 647...  test/0002.jpg\n",
       " 3     0 0.11177578 27.092075 35.875004 978.9746 940....  test/0003.jpg\n",
       " 4     0 0.26960093 456.78018 409.27368 654.72925 540...  test/0004.jpg\n",
       " ...                                                 ...            ...\n",
       " 4866  0 0.7284742 305.88617 357.12082 668.76886 695....  test/4866.jpg\n",
       " 4867  0 0.048436254 623.9027 666.14923 772.2149 732....  test/4867.jpg\n",
       " 4868  0 0.103914775 555.2451 521.5389 716.92377 798....  test/4868.jpg\n",
       " 4869  0 0.8101309 11.997962 206.65575 1010.8854 965....  test/4869.jpg\n",
       " 4870  0 0.26989764 241.96577 823.9074 295.011 853.94...  test/4870.jpg\n",
       " \n",
       " [4871 rows x 2 columns]]"
      ]
     },
     "execution_count": 42,
     "metadata": {},
     "output_type": "execute_result"
    }
   ],
   "source": [
    "submission_df"
   ]
  },
  {
   "cell_type": "code",
   "execution_count": 43,
   "metadata": {},
   "outputs": [],
   "source": [
    "image_ids = submission_df[0]['image_id'].tolist()"
   ]
  },
  {
   "cell_type": "code",
   "execution_count": 44,
   "metadata": {},
   "outputs": [
    {
     "name": "stdout",
     "output_type": "stream",
     "text": [
      "loading annotations into memory...\n",
      "Done (t=0.02s)\n",
      "creating index...\n",
      "index created!\n"
     ]
    }
   ],
   "source": [
    "annotation = '../dataset/test.json'\n",
    "coco = COCO(annotation)"
   ]
  },
  {
   "cell_type": "code",
   "execution_count": 45,
   "metadata": {},
   "outputs": [
    {
     "name": "stderr",
     "output_type": "stream",
     "text": [
      "/opt/conda/envs/detection/lib/python3.7/site-packages/ensemble_boxes/ensemble_boxes_wbf.py:73: UserWarning: X2 > 1 in box. Set it to 1. Check that you normalize boxes in [0, 1] range.\n",
      "  warnings.warn('X2 > 1 in box. Set it to 1. Check that you normalize boxes in [0, 1] range.')\n",
      "/opt/conda/envs/detection/lib/python3.7/site-packages/ensemble_boxes/ensemble_boxes_wbf.py:85: UserWarning: Y2 > 1 in box. Set it to 1. Check that you normalize boxes in [0, 1] range.\n",
      "  warnings.warn('Y2 > 1 in box. Set it to 1. Check that you normalize boxes in [0, 1] range.')\n",
      "/opt/conda/envs/detection/lib/python3.7/site-packages/ensemble_boxes/ensemble_boxes_wbf.py:88: UserWarning: Zero area box skipped: [0.47802734375, 0.0, 0.60009765625, 0.0].\n",
      "  warnings.warn(\"Zero area box skipped: {}.\".format(box_part))\n"
     ]
    }
   ],
   "source": [
    "prediction_strings = []\n",
    "file_names = []\n",
    "iou_thr = 0.6\n",
    "\n",
    "for i, image_id in enumerate(image_ids):\n",
    "    prediction_string = ''\n",
    "    boxes_list = []\n",
    "    scores_list = []\n",
    "    labels_list = []\n",
    "    image_info = coco.loadImgs(i)[0]\n",
    "    \n",
    "    for df in submission_df:\n",
    "        predict_string = df[df['image_id'] == image_id]['PredictionString'].tolist()[0]\n",
    "        predict_list = str(predict_string).split()\n",
    "        \n",
    "        if len(predict_list)==0 or len(predict_list)==1:\n",
    "            continue\n",
    "            \n",
    "        predict_list = np.reshape(predict_list, (-1, 6))\n",
    "        box_list = []\n",
    "        \n",
    "        for box in predict_list[:, 2:6].tolist():\n",
    "            box[0] = float(box[0]) / image_info['width']\n",
    "            box[1] = float(box[1]) / image_info['height']\n",
    "            box[2] = float(box[2]) / image_info['width']\n",
    "            box[3] = float(box[3]) / image_info['height']\n",
    "            box_list.append(box)\n",
    "            \n",
    "        boxes_list.append(box_list)\n",
    "        scores_list.append(list(map(float, predict_list[:, 1].tolist())))\n",
    "        labels_list.append(list(map(int, predict_list[:, 0].tolist())))\n",
    "    \n",
    "    if len(boxes_list):\n",
    "        boxes, scores, labels = weighted_boxes_fusion(boxes_list, scores_list, labels_list, iou_thr=iou_thr)\n",
    "        for box, score, label in zip(boxes, scores, labels):\n",
    "            prediction_string += str(int(label)) + ' ' + str(score) + ' ' + str(box[0] * image_info['width']) + ' ' + str(box[1] * image_info['height']) + ' ' + str(box[2] * image_info['width']) + ' ' + str(box[3] * image_info['height']) + ' '\n",
    "    \n",
    "    prediction_strings.append(prediction_string)\n",
    "    file_names.append(image_id)"
   ]
  },
  {
   "cell_type": "code",
   "execution_count": 46,
   "metadata": {},
   "outputs": [
    {
     "data": {
      "text/html": [
       "<div>\n",
       "<style scoped>\n",
       "    .dataframe tbody tr th:only-of-type {\n",
       "        vertical-align: middle;\n",
       "    }\n",
       "\n",
       "    .dataframe tbody tr th {\n",
       "        vertical-align: top;\n",
       "    }\n",
       "\n",
       "    .dataframe thead th {\n",
       "        text-align: right;\n",
       "    }\n",
       "</style>\n",
       "<table border=\"1\" class=\"dataframe\">\n",
       "  <thead>\n",
       "    <tr style=\"text-align: right;\">\n",
       "      <th></th>\n",
       "      <th>PredictionString</th>\n",
       "      <th>image_id</th>\n",
       "    </tr>\n",
       "  </thead>\n",
       "  <tbody>\n",
       "    <tr>\n",
       "      <th>0</th>\n",
       "      <td>7 0.8832376599311829 602.7208251953125 504.265...</td>\n",
       "      <td>test/0000.jpg</td>\n",
       "    </tr>\n",
       "    <tr>\n",
       "      <th>1</th>\n",
       "      <td>5 0.6775245070457458 133.5726776123047 0.37436...</td>\n",
       "      <td>test/0001.jpg</td>\n",
       "    </tr>\n",
       "    <tr>\n",
       "      <th>2</th>\n",
       "      <td>1 0.6645795106887817 779.540771484375 416.3238...</td>\n",
       "      <td>test/0002.jpg</td>\n",
       "    </tr>\n",
       "    <tr>\n",
       "      <th>3</th>\n",
       "      <td>9 0.3936730921268463 150.1287078857422 268.769...</td>\n",
       "      <td>test/0003.jpg</td>\n",
       "    </tr>\n",
       "    <tr>\n",
       "      <th>4</th>\n",
       "      <td>1 0.5169661045074463 203.116455078125 319.1077...</td>\n",
       "      <td>test/0004.jpg</td>\n",
       "    </tr>\n",
       "    <tr>\n",
       "      <th>...</th>\n",
       "      <td>...</td>\n",
       "      <td>...</td>\n",
       "    </tr>\n",
       "    <tr>\n",
       "      <th>4866</th>\n",
       "      <td>0 0.5677744150161743 293.7481689453125 356.762...</td>\n",
       "      <td>test/4866.jpg</td>\n",
       "    </tr>\n",
       "    <tr>\n",
       "      <th>4867</th>\n",
       "      <td>3 0.6352837681770325 414.136962890625 320.4855...</td>\n",
       "      <td>test/4867.jpg</td>\n",
       "    </tr>\n",
       "    <tr>\n",
       "      <th>4868</th>\n",
       "      <td>7 0.6148608326911926 112.14129638671875 481.82...</td>\n",
       "      <td>test/4868.jpg</td>\n",
       "    </tr>\n",
       "    <tr>\n",
       "      <th>4869</th>\n",
       "      <td>0 0.5118367671966553 10.939021110534668 219.88...</td>\n",
       "      <td>test/4869.jpg</td>\n",
       "    </tr>\n",
       "    <tr>\n",
       "      <th>4870</th>\n",
       "      <td>4 0.7254675626754761 373.2226257324219 201.467...</td>\n",
       "      <td>test/4870.jpg</td>\n",
       "    </tr>\n",
       "  </tbody>\n",
       "</table>\n",
       "<p>4871 rows × 2 columns</p>\n",
       "</div>"
      ],
      "text/plain": [
       "                                       PredictionString       image_id\n",
       "0     7 0.8832376599311829 602.7208251953125 504.265...  test/0000.jpg\n",
       "1     5 0.6775245070457458 133.5726776123047 0.37436...  test/0001.jpg\n",
       "2     1 0.6645795106887817 779.540771484375 416.3238...  test/0002.jpg\n",
       "3     9 0.3936730921268463 150.1287078857422 268.769...  test/0003.jpg\n",
       "4     1 0.5169661045074463 203.116455078125 319.1077...  test/0004.jpg\n",
       "...                                                 ...            ...\n",
       "4866  0 0.5677744150161743 293.7481689453125 356.762...  test/4866.jpg\n",
       "4867  3 0.6352837681770325 414.136962890625 320.4855...  test/4867.jpg\n",
       "4868  7 0.6148608326911926 112.14129638671875 481.82...  test/4868.jpg\n",
       "4869  0 0.5118367671966553 10.939021110534668 219.88...  test/4869.jpg\n",
       "4870  4 0.7254675626754761 373.2226257324219 201.467...  test/4870.jpg\n",
       "\n",
       "[4871 rows x 2 columns]"
      ]
     },
     "execution_count": 46,
     "metadata": {},
     "output_type": "execute_result"
    }
   ],
   "source": [
    "submission = pd.DataFrame()\n",
    "submission['PredictionString'] = prediction_strings\n",
    "submission['image_id'] = file_names\n",
    "submission.to_csv('submission_FINAL_ensemble_wbf.csv', index=False)\n",
    "\n",
    "submission.head()\n",
    "submission"
   ]
  }
 ],
 "metadata": {
  "kernelspec": {
   "display_name": "Python 3 (ipykernel)",
   "language": "python",
   "name": "python3"
  },
  "language_info": {
   "codemirror_mode": {
    "name": "ipython",
    "version": 3
   },
   "file_extension": ".py",
   "mimetype": "text/x-python",
   "name": "python",
   "nbconvert_exporter": "python",
   "pygments_lexer": "ipython3",
   "version": "3.7.11"
  }
 },
 "nbformat": 4,
 "nbformat_minor": 4
}
